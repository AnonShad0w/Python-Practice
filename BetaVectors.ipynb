{
 "cells": [
  {
   "cell_type": "code",
   "execution_count": 63,
   "metadata": {},
   "outputs": [
    {
     "name": "stdout",
     "output_type": "stream",
     "text": [
      "Enter 1st X column in X vector with space between each number: \n",
      "1 1 1\n",
      "Enter 2nd X column in X vector with space between each number: \n",
      "0 1 2\n",
      "Enter Y column in Y vector with space between each number: \n",
      "1 3 2\n",
      "The Beta0 and Beta1 predicted coefficients are: 1.5 and 0.5\n"
     ]
    }
   ],
   "source": [
    "import numpy as np\n",
    "\n",
    "print(\"Enter 1st X column in X vector with space between each number: \")\n",
    "xvector1 = [int(xval) for xval in input().split()]\n",
    "\n",
    "print(\"Enter 2nd X column in X vector with space between each number: \")\n",
    "xvector2 = [int(xval) for xval in input().split()]\n",
    "\n",
    "print(\"Enter Y column in Y vector with space between each number: \")\n",
    "yvector = [int(xval) for xval in input().split()]\n",
    "\n",
    "x = np.array(list(zip(xvector1,xvector2)))\n",
    "xt = x.transpose()\n",
    "y = np.array(yvector)\n",
    "xtx = np.matmul(xt,x)\n",
    "\n",
    "if xtx[0][0]*xtx[1][1] - xtx[0][1]*xtx[1][0] == 0:\n",
    "    print(\"This matrix does not have a determinant\")\n",
    "    \n",
    "else:\n",
    "    ixtx = np.linalg.inv(xtx)\n",
    "    xty = np.matmul(xt,y)\n",
    "    b = np.matmul(ixtx, xty)\n",
    "    print(\"The Beta0 and Beta1 predicted coefficients are: {} and {}\".format(b[0], b[1]))"
   ]
  }
 ],
 "metadata": {
  "kernelspec": {
   "display_name": "Python 3",
   "language": "python",
   "name": "python3"
  },
  "language_info": {
   "codemirror_mode": {
    "name": "ipython",
    "version": 3
   },
   "file_extension": ".py",
   "mimetype": "text/x-python",
   "name": "python",
   "nbconvert_exporter": "python",
   "pygments_lexer": "ipython3",
   "version": "3.7.3"
  }
 },
 "nbformat": 4,
 "nbformat_minor": 2
}
